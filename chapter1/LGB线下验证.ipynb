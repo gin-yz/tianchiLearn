{
 "cells": [
  {
   "cell_type": "code",
   "execution_count": 30,
   "metadata": {
    "collapsed": true
   },
   "outputs": [],
   "source": [
    "from skimage.metrics import mean_squared_error\n",
    "from sklearn.model_selection import KFold\n",
    "import lightgbm as lgb #LGB模型\n",
    "import numpy as np\n",
    "import pandas as pd"
   ]
  },
  {
   "cell_type": "code",
   "execution_count": 31,
   "outputs": [],
   "source": [
    "train_data2 = pd.read_csv(\"./zhengqi_train.txt\",sep=\"\\t\")\n",
    "test_data2 = pd.read_csv(\"./zhengqi_test.txt\",sep=\"\\t\")"
   ],
   "metadata": {
    "collapsed": false,
    "pycharm": {
     "name": "#%%\n"
    }
   }
  },
  {
   "cell_type": "code",
   "execution_count": 32,
   "outputs": [],
   "source": [
    "train_data2_f = train_data2[train_data2.columns].values\n",
    "train_data2_target = train_data2[\"target\"].values"
   ],
   "metadata": {
    "collapsed": false,
    "pycharm": {
     "name": "#%%\n"
    }
   }
  },
  {
   "cell_type": "code",
   "execution_count": 33,
   "outputs": [],
   "source": [
    "Folds = 5\n",
    "kf = KFold(n_splits=Folds,shuffle=True,random_state=2021)\n",
    "MSE_DICT = {\"train_mse\":[],\"test_mse\":[]}"
   ],
   "metadata": {
    "collapsed": false,
    "pycharm": {
     "name": "#%%\n"
    }
   }
  },
  {
   "cell_type": "code",
   "execution_count": 34,
   "outputs": [
    {
     "name": "stdout",
     "output_type": "stream",
     "text": [
      "Training until validation scores don't improve for 100 rounds\n",
      "[50]\tTrain's l2: 0.358459\tTest's l2: 0.344019\n",
      "[100]\tTrain's l2: 0.131707\tTest's l2: 0.127362\n",
      "[150]\tTrain's l2: 0.0485491\tTest's l2: 0.0475255\n",
      "[200]\tTrain's l2: 0.0180527\tTest's l2: 0.0181178\n",
      "[250]\tTrain's l2: 0.00686335\tTest's l2: 0.00724922\n",
      "[300]\tTrain's l2: 0.00275103\tTest's l2: 0.00322458\n",
      "[350]\tTrain's l2: 0.00122732\tTest's l2: 0.00173976\n",
      "[400]\tTrain's l2: 0.00064804\tTest's l2: 0.00116749\n",
      "[450]\tTrain's l2: 0.000430771\tTest's l2: 0.000942277\n",
      "[500]\tTrain's l2: 0.000338008\tTest's l2: 0.000857585\n",
      "[550]\tTrain's l2: 0.000294812\tTest's l2: 0.000820365\n",
      "[600]\tTrain's l2: 0.000273748\tTest's l2: 0.000803789\n",
      "[650]\tTrain's l2: 0.000257831\tTest's l2: 0.000792687\n",
      "[700]\tTrain's l2: 0.000237535\tTest's l2: 0.000783096\n",
      "[750]\tTrain's l2: 0.000222792\tTest's l2: 0.000787887\n",
      "[800]\tTrain's l2: 0.000210743\tTest's l2: 0.000793091\n",
      "Early stopping, best iteration is:\n",
      "[716]\tTrain's l2: 0.000232942\tTest's l2: 0.000782477\n",
      "第0轮训练结果：\n",
      "train mse:0.0002329417264496029,test mse:0.0007824774214641015\n",
      "Training until validation scores don't improve for 100 rounds\n",
      "[50]\tTrain's l2: 0.347177\tTest's l2: 0.390347\n",
      "[100]\tTrain's l2: 0.127587\tTest's l2: 0.145187\n",
      "[150]\tTrain's l2: 0.0470475\tTest's l2: 0.0545395\n",
      "[200]\tTrain's l2: 0.0175051\tTest's l2: 0.021054\n",
      "[250]\tTrain's l2: 0.00666352\tTest's l2: 0.00857778\n",
      "[300]\tTrain's l2: 0.00267957\tTest's l2: 0.00392498\n",
      "[350]\tTrain's l2: 0.00119899\tTest's l2: 0.00220181\n",
      "[400]\tTrain's l2: 0.000640268\tTest's l2: 0.00152571\n",
      "[450]\tTrain's l2: 0.000425347\tTest's l2: 0.00127085\n",
      "[500]\tTrain's l2: 0.000332677\tTest's l2: 0.00116343\n",
      "[550]\tTrain's l2: 0.000289351\tTest's l2: 0.00111018\n",
      "[600]\tTrain's l2: 0.000265831\tTest's l2: 0.00108673\n",
      "[650]\tTrain's l2: 0.000247852\tTest's l2: 0.00107453\n",
      "[700]\tTrain's l2: 0.000233128\tTest's l2: 0.00105379\n",
      "[750]\tTrain's l2: 0.000219876\tTest's l2: 0.00103813\n",
      "[800]\tTrain's l2: 0.000208043\tTest's l2: 0.00103183\n",
      "[850]\tTrain's l2: 0.000197981\tTest's l2: 0.00102813\n",
      "[900]\tTrain's l2: 0.000188042\tTest's l2: 0.00102555\n",
      "[950]\tTrain's l2: 0.000179013\tTest's l2: 0.00102706\n",
      "[1000]\tTrain's l2: 0.000170343\tTest's l2: 0.00102906\n",
      "Early stopping, best iteration is:\n",
      "[905]\tTrain's l2: 0.000187236\tTest's l2: 0.0010249\n",
      "第1轮训练结果：\n",
      "train mse:0.0001872357373863771,test mse:0.0010248981551494079\n",
      "Training until validation scores don't improve for 100 rounds\n",
      "[50]\tTrain's l2: 0.350242\tTest's l2: 0.37293\n",
      "[100]\tTrain's l2: 0.128751\tTest's l2: 0.135657\n",
      "[150]\tTrain's l2: 0.0475171\tTest's l2: 0.0492026\n",
      "[200]\tTrain's l2: 0.0177184\tTest's l2: 0.0178868\n",
      "[250]\tTrain's l2: 0.00678108\tTest's l2: 0.0066426\n",
      "[300]\tTrain's l2: 0.00275721\tTest's l2: 0.00261535\n",
      "[350]\tTrain's l2: 0.00124569\tTest's l2: 0.0011735\n",
      "[400]\tTrain's l2: 0.00066956\tTest's l2: 0.000667271\n",
      "[450]\tTrain's l2: 0.000453529\tTest's l2: 0.000497886\n",
      "[500]\tTrain's l2: 0.000361887\tTest's l2: 0.000440882\n",
      "[550]\tTrain's l2: 0.000316518\tTest's l2: 0.000427464\n",
      "[600]\tTrain's l2: 0.000292261\tTest's l2: 0.000422445\n",
      "[650]\tTrain's l2: 0.000273699\tTest's l2: 0.000425881\n",
      "[700]\tTrain's l2: 0.000259144\tTest's l2: 0.000441245\n",
      "Early stopping, best iteration is:\n",
      "[626]\tTrain's l2: 0.000282724\tTest's l2: 0.000419004\n",
      "第2轮训练结果：\n",
      "train mse:0.00028272355624795744,test mse:0.00041900399821309545\n",
      "Training until validation scores don't improve for 100 rounds\n",
      "[50]\tTrain's l2: 0.362519\tTest's l2: 0.326982\n",
      "[100]\tTrain's l2: 0.133243\tTest's l2: 0.120176\n",
      "[150]\tTrain's l2: 0.0491552\tTest's l2: 0.0442796\n",
      "[200]\tTrain's l2: 0.0183136\tTest's l2: 0.0163947\n",
      "[250]\tTrain's l2: 0.00699631\tTest's l2: 0.00615036\n",
      "[300]\tTrain's l2: 0.00283429\tTest's l2: 0.00240313\n",
      "[350]\tTrain's l2: 0.00127404\tTest's l2: 0.00102709\n",
      "[400]\tTrain's l2: 0.000683015\tTest's l2: 0.000517697\n",
      "[450]\tTrain's l2: 0.000459977\tTest's l2: 0.000323005\n",
      "[500]\tTrain's l2: 0.000366582\tTest's l2: 0.000251224\n",
      "[550]\tTrain's l2: 0.000322379\tTest's l2: 0.000218998\n",
      "[600]\tTrain's l2: 0.000293804\tTest's l2: 0.000202552\n",
      "[650]\tTrain's l2: 0.000275481\tTest's l2: 0.000194599\n",
      "[700]\tTrain's l2: 0.000258141\tTest's l2: 0.000194005\n",
      "[750]\tTrain's l2: 0.000245405\tTest's l2: 0.000192584\n",
      "[800]\tTrain's l2: 0.000233106\tTest's l2: 0.000193733\n",
      "Early stopping, best iteration is:\n",
      "[749]\tTrain's l2: 0.00024565\tTest's l2: 0.000192566\n",
      "第3轮训练结果：\n",
      "train mse:0.0002456504132434191,test mse:0.00019256613368795282\n",
      "Training until validation scores don't improve for 100 rounds\n",
      "[50]\tTrain's l2: 0.357498\tTest's l2: 0.346082\n",
      "[100]\tTrain's l2: 0.131389\tTest's l2: 0.126979\n",
      "[150]\tTrain's l2: 0.0484652\tTest's l2: 0.0467197\n",
      "[200]\tTrain's l2: 0.0180454\tTest's l2: 0.0172842\n",
      "[250]\tTrain's l2: 0.00688163\tTest's l2: 0.00648913\n",
      "[300]\tTrain's l2: 0.00277803\tTest's l2: 0.00252927\n",
      "[350]\tTrain's l2: 0.00124272\tTest's l2: 0.00108928\n",
      "[400]\tTrain's l2: 0.000661181\tTest's l2: 0.000560322\n",
      "[450]\tTrain's l2: 0.000439655\tTest's l2: 0.000367112\n",
      "[500]\tTrain's l2: 0.00034669\tTest's l2: 0.000300132\n",
      "[550]\tTrain's l2: 0.00030285\tTest's l2: 0.000265941\n",
      "[600]\tTrain's l2: 0.000273055\tTest's l2: 0.000254125\n",
      "[650]\tTrain's l2: 0.000253507\tTest's l2: 0.000250974\n",
      "[700]\tTrain's l2: 0.000236922\tTest's l2: 0.000250425\n",
      "[750]\tTrain's l2: 0.000224675\tTest's l2: 0.000252788\n",
      "Early stopping, best iteration is:\n",
      "[681]\tTrain's l2: 0.000242583\tTest's l2: 0.000249441\n",
      "第4轮训练结果：\n",
      "train mse:0.00024258292544130906,test mse:0.0002494413205067481\n"
     ]
    }
   ],
   "source": [
    "# 线下预测模型\n",
    "for i,(train_index,test_index) in enumerate(kf.split(train_data2)):\n",
    "    #LGB树模型\n",
    "    lgb_reg = lgb.LGBMRegressor(\n",
    "        learning_rate=0.01,\n",
    "        max_depth=-1,\n",
    "        n_estimators=5000,\n",
    "        boosting_type=\"gbdt\",\n",
    "        random_state=2021,\n",
    "        objective=\"regression\"\n",
    "    )\n",
    "\n",
    "    X_train_KFold, X_test_KFold = train_data2_f[train_index],train_data2_f[test_index]\n",
    "\n",
    "    y_train_KFold, y_test_KFold = train_data2_target[train_index],train_data2_target[test_index]\n",
    "\n",
    "    lgb_reg.fit(X = X_train_KFold,\n",
    "                y = y_train_KFold,\n",
    "                eval_set=[(X_train_KFold,y_train_KFold),\n",
    "                          (X_test_KFold,y_test_KFold)],\n",
    "                eval_names=[\"Train\",\"Test\"],\n",
    "                early_stopping_rounds=100,\n",
    "                eval_metric=\"MSE\",\n",
    "                verbose=50)\n",
    "\n",
    "    y_train_KFold_predict = lgb_reg.predict(X_train_KFold,num_iteration=lgb_reg.best_iteration_)\n",
    "    y_test_KFold_predict = lgb_reg.predict(X_test_KFold,num_iteration=lgb_reg.best_iteration_)\n",
    "\n",
    "    print(f\"第{i}轮训练结果：\")\n",
    "    train_mse = mean_squared_error(y_train_KFold_predict,y_train_KFold)\n",
    "    test_mse = mean_squared_error(y_test_KFold_predict,y_test_KFold)\n",
    "    print(f\"train mse:{train_mse},test mse:{test_mse}\")\n",
    "\n"
   ],
   "metadata": {
    "collapsed": false,
    "pycharm": {
     "name": "#%%\n"
    }
   }
  },
  {
   "cell_type": "code",
   "execution_count": null,
   "outputs": [],
   "source": [],
   "metadata": {
    "collapsed": false,
    "pycharm": {
     "name": "#%%\n"
    }
   }
  }
 ],
 "metadata": {
  "kernelspec": {
   "display_name": "Python 3",
   "language": "python",
   "name": "python3"
  },
  "language_info": {
   "codemirror_mode": {
    "name": "ipython",
    "version": 2
   },
   "file_extension": ".py",
   "mimetype": "text/x-python",
   "name": "python",
   "nbconvert_exporter": "python",
   "pygments_lexer": "ipython2",
   "version": "2.7.6"
  }
 },
 "nbformat": 4,
 "nbformat_minor": 0
}